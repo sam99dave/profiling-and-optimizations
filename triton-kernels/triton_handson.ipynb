{
  "nbformat": 4,
  "nbformat_minor": 0,
  "metadata": {
    "colab": {
      "provenance": [],
      "collapsed_sections": [
        "07nezjlQYRbp"
      ]
    },
    "kernelspec": {
      "name": "python3",
      "display_name": "Python 3"
    },
    "language_info": {
      "name": "python"
    }
  },
  "cells": [
    {
      "cell_type": "code",
      "execution_count": null,
      "metadata": {
        "colab": {
          "base_uri": "https://localhost:8080/"
        },
        "id": "nWfgw9MzXYX6",
        "outputId": "2c066d18-3423-4ee2-dd61-c8b22c3aebe8"
      },
      "outputs": [
        {
          "output_type": "stream",
          "name": "stdout",
          "text": [
            "Requirement already satisfied: triton in /usr/local/lib/python3.10/dist-packages (2.3.0)\n",
            "Requirement already satisfied: filelock in /usr/local/lib/python3.10/dist-packages (from triton) (3.14.0)\n"
          ]
        }
      ],
      "source": [
        "!pip install triton"
      ]
    },
    {
      "cell_type": "code",
      "source": [
        "!pip install --upgrade triton"
      ],
      "metadata": {
        "colab": {
          "base_uri": "https://localhost:8080/",
          "height": 550
        },
        "id": "s2OC3PUx0SZ6",
        "outputId": "135b2486-24e0-46c3-a41f-042664563162",
        "collapsed": true
      },
      "execution_count": null,
      "outputs": [
        {
          "output_type": "stream",
          "name": "stdout",
          "text": [
            "Requirement already satisfied: triton in /usr/local/lib/python3.10/dist-packages (2.3.0)\n",
            "Collecting triton\n",
            "  Downloading triton-2.3.1-cp310-cp310-manylinux_2_17_x86_64.manylinux2014_x86_64.whl (168.1 MB)\n",
            "\u001b[2K     \u001b[90m━━━━━━━━━━━━━━━━━━━━━━━━━━━━━━━━━━━━━━━━\u001b[0m \u001b[32m168.1/168.1 MB\u001b[0m \u001b[31m7.4 MB/s\u001b[0m eta \u001b[36m0:00:00\u001b[0m\n",
            "\u001b[?25hRequirement already satisfied: filelock in /usr/local/lib/python3.10/dist-packages (from triton) (3.14.0)\n",
            "Installing collected packages: triton\n",
            "  Attempting uninstall: triton\n",
            "    Found existing installation: triton 2.3.0\n",
            "    Uninstalling triton-2.3.0:\n",
            "      Successfully uninstalled triton-2.3.0\n",
            "\u001b[31mERROR: pip's dependency resolver does not currently take into account all the packages that are installed. This behaviour is the source of the following dependency conflicts.\n",
            "torch 2.3.0+cu121 requires nvidia-cublas-cu12==12.1.3.1; platform_system == \"Linux\" and platform_machine == \"x86_64\", which is not installed.\n",
            "torch 2.3.0+cu121 requires nvidia-cuda-cupti-cu12==12.1.105; platform_system == \"Linux\" and platform_machine == \"x86_64\", which is not installed.\n",
            "torch 2.3.0+cu121 requires nvidia-cuda-nvrtc-cu12==12.1.105; platform_system == \"Linux\" and platform_machine == \"x86_64\", which is not installed.\n",
            "torch 2.3.0+cu121 requires nvidia-cuda-runtime-cu12==12.1.105; platform_system == \"Linux\" and platform_machine == \"x86_64\", which is not installed.\n",
            "torch 2.3.0+cu121 requires nvidia-cudnn-cu12==8.9.2.26; platform_system == \"Linux\" and platform_machine == \"x86_64\", which is not installed.\n",
            "torch 2.3.0+cu121 requires nvidia-cufft-cu12==11.0.2.54; platform_system == \"Linux\" and platform_machine == \"x86_64\", which is not installed.\n",
            "torch 2.3.0+cu121 requires nvidia-curand-cu12==10.3.2.106; platform_system == \"Linux\" and platform_machine == \"x86_64\", which is not installed.\n",
            "torch 2.3.0+cu121 requires nvidia-cusolver-cu12==11.4.5.107; platform_system == \"Linux\" and platform_machine == \"x86_64\", which is not installed.\n",
            "torch 2.3.0+cu121 requires nvidia-cusparse-cu12==12.1.0.106; platform_system == \"Linux\" and platform_machine == \"x86_64\", which is not installed.\n",
            "torch 2.3.0+cu121 requires nvidia-nccl-cu12==2.20.5; platform_system == \"Linux\" and platform_machine == \"x86_64\", which is not installed.\n",
            "torch 2.3.0+cu121 requires nvidia-nvtx-cu12==12.1.105; platform_system == \"Linux\" and platform_machine == \"x86_64\", which is not installed.\n",
            "torch 2.3.0+cu121 requires triton==2.3.0; platform_system == \"Linux\" and platform_machine == \"x86_64\" and python_version < \"3.12\", but you have triton 2.3.1 which is incompatible.\u001b[0m\u001b[31m\n",
            "\u001b[0mSuccessfully installed triton-2.3.1\n"
          ]
        },
        {
          "output_type": "display_data",
          "data": {
            "application/vnd.colab-display-data+json": {
              "pip_warning": {
                "packages": [
                  "triton"
                ]
              },
              "id": "e0603530edac43bdb768faeee824ee2a"
            }
          },
          "metadata": {}
        }
      ]
    },
    {
      "cell_type": "markdown",
      "source": [
        "## UTILS"
      ],
      "metadata": {
        "id": "ekqqK6Es-xiZ"
      }
    },
    {
      "cell_type": "code",
      "source": [
        "import os\n",
        "from IPython.core.debugger import set_trace\n",
        "\n",
        "# use this for debugging & if incase GPU limit has been exhausted :(\n",
        "os.environ['TRITON_INTERPRET'] = '1' # needs to be set *before* triton is imported"
      ],
      "metadata": {
        "id": "Yvefaf6xBwGF"
      },
      "execution_count": 1,
      "outputs": []
    },
    {
      "cell_type": "code",
      "source": [
        "import os\n",
        "import triton\n",
        "import triton.language as tl\n",
        "\n",
        "def test_pid_conds(conds, pid_0=[0], pid_1=[0], pid_2=[0]):\n",
        "    '''Test if condition on pids are fulfilled\n",
        "    E.g.:\n",
        "        '=0'  checks that pid_0 == 0\n",
        "        ',>1' checks that pid_1 > 1\n",
        "        '>1,=0' checks that pid_0 > 1 and pid_1 == 0\n",
        "    '''\n",
        "    pids = pid_0[0], pid_1[0], pid_2[0]\n",
        "    conds = conds.replace(' ','').split(',')\n",
        "    for i, (cond, pid) in enumerate(zip(conds, pids)):\n",
        "        if cond=='': continue\n",
        "        op, threshold = cond[0], int(cond[1:])\n",
        "        if op not in ['<','>','>=','<=','=', '!=']: raise ValueError(f\"Rules may only use these ops: '<','>','>=','<=','=', '!='. Invalid rule: '{conds}'.\")\n",
        "        op = '==' if op == '=' else op\n",
        "        if not eval(f'{pid} {op} {threshold}'): return False\n",
        "    return True\n",
        "\n",
        "assert test_pid_conds('')\n",
        "assert test_pid_conds('>0', [1], [1])\n",
        "assert not test_pid_conds('>0', [0], [1])\n",
        "assert test_pid_conds('=0,=1', [0], [1], [0])\n",
        "\n",
        "def breakpoint_if(conds, pid_0=[0], pid_1=[0], pid_2=[0]):\n",
        "    '''Stop kernel, if any condition of pids is fulfilled'''\n",
        "    from IPython.core.debugger import set_trace\n",
        "\n",
        "    if test_pid_conds(conds, pid_0, pid_1, pid_2): set_trace()\n",
        "\n",
        "def print_if(txt, conds, pid_0=[0], pid_1=[0], pid_2=[0]):\n",
        "    '''Print txt, if any condition of pids is fulfilled'''\n",
        "    if test_pid_conds(conds, pid_0, pid_1, pid_2): print(txt)\n",
        "\n",
        "def check_tensors_gpu_ready(*tensors):\n",
        "    for t in tensors:\n",
        "        assert t.is_contiguous(), \"A tensor is not contiguous\"\n",
        "        if not os.environ.get('TRITON_INTERPRET') == '1': assert t.is_cuda, \"A tensor is not on cuda\"\n",
        "\n",
        "def cdiv(a,b): return (a + b - 1) // b\n",
        "assert cdiv(10,2)==5\n",
        "assert cdiv(10,3)==4\n",
        "\n",
        "@triton.jit\n",
        "def get_1d_offest(size, n_prev_chunks): return n_prev_chunks * size + tl.arange(0, size)\n",
        "\n",
        "@triton.jit\n",
        "def get_2d_offset(offs_0, offs_1, stride_0, stride_1=1):  return tl.expand_dims(offs_0, 1)*stride_0 + tl.expand_dims(offs_1, 0)*stride_1\n",
        "\n",
        "@triton.jit\n",
        "def get_1d_mask(offs, max): return offs < max\n",
        "\n",
        "@triton.jit\n",
        "def get_2d_mask(offs_0, offs_1, max_0, max_1): return (tl.expand_dims(offs_0, 1) < max_0) & (tl.expand_dims(offs_1, 0) < max_1)"
      ],
      "metadata": {
        "id": "MS1KMxvO-zJg"
      },
      "execution_count": 2,
      "outputs": []
    },
    {
      "cell_type": "markdown",
      "source": [
        "## Vector Addition"
      ],
      "metadata": {
        "id": "07nezjlQYRbp"
      }
    },
    {
      "cell_type": "code",
      "source": [
        "import torch\n",
        "import triton\n",
        "import triton.language as tl"
      ],
      "metadata": {
        "id": "k1MwKqQVX_Mg"
      },
      "execution_count": 4,
      "outputs": []
    },
    {
      "cell_type": "code",
      "source": [
        "@triton.jit\n",
        "def add_kernel(\n",
        "    x_ptr, # internally prepared from torch.Tensor\n",
        "    y_ptr, # internally prepared from torch.Tensor\n",
        "    output_ptr, # internally prepared from torch.Tensor\n",
        "    n_elements, # number of elements present in the Tensor (used for masking to prevent memory bound issues)\n",
        "    BLOCK_SIZE: tl.constexpr # Size of the BLOCK which will be used by the kernel\n",
        "  ):\n",
        "\n",
        "  row_start = tl.program_id(0) # get the kernel info which is going to use a block | 0 -> is the axis (1D, 2D, 3D)\n",
        "\n",
        "  # Whenever a kernel is launched it takes in a grid | Blocks inside this grid are individual compute units\n",
        "  # preparing the offset, 0st block -> 0 * 3 + [0,1,2] = [0, 1, 2] (1st block locations)\n",
        "  # preparing the offset, 1st block -> 1 * 3 + [0,1,2] = [3, 4, 5] (2nd block locations)\n",
        "  offsets = row_start * BLOCK_SIZE + tl.arange(0, BLOCK_SIZE)\n",
        "  mask = offsets < n_elements # Masking to avoid going beyond total number of elements present\n",
        "\n",
        "  x = tl.load(x_ptr + offsets, mask) # loading the vector of values of size BS\n",
        "  y = tl.load(y_ptr + offsets, mask) # loading the vector of values of size BS\n",
        "\n",
        "  output = x + y # Add operation on the vectors\n",
        "\n",
        "  tl.store(output_ptr + offsets, output, mask) # Storing in the required output location\n",
        "\n",
        "\n",
        "def add(x: torch.Tensor, y: torch.Tensor):\n",
        "  device = 'cuda' if torch.cuda.is_available() else 'cpu'\n",
        "  z = torch.empty_like(x, device = device) # initializing the empty output\n",
        "  # Uncomment the following assert if running on GPU\n",
        "  # assert x.is_cuda and y.is_cuda and z.is_cuda, f\"Inputs should be on CUDA\"\n",
        "  n_elements = x.numel()\n",
        "\n",
        "  # Creating a function that returns a tuple, information on the grid -> no of blocks present in the grid\n",
        "  grid = lambda meta: (cdiv(n_elements, meta['BLOCK_SIZE']), ) # The `meta` contains all the kwargs passed when calling the kernel\n",
        "  add_kernel[grid](x, y, z, n_elements, BLOCK_SIZE = 1024) # call the kernel\n",
        "\n",
        "  return z"
      ],
      "metadata": {
        "id": "3D2k8_wJBnlA"
      },
      "execution_count": 7,
      "outputs": []
    },
    {
      "cell_type": "code",
      "source": [
        "torch.manual_seed(0)\n",
        "size = 98432\n",
        "x = torch.rand(size, device='cpu')\n",
        "y = torch.rand(size, device='cpu')\n",
        "output_torch = x + y\n",
        "output_triton = add(x, y)\n",
        "print(output_torch)\n",
        "print(output_triton)\n",
        "print(f'The maximum difference between torch and triton is '\n",
        "      f'{torch.max(torch.abs(output_torch - output_triton))}')"
      ],
      "metadata": {
        "colab": {
          "base_uri": "https://localhost:8080/"
        },
        "id": "XiCFWw-MECpb",
        "outputId": "248fd6c1-3e49-4046-c1b8-43eb01bae607"
      },
      "execution_count": 8,
      "outputs": [
        {
          "output_type": "stream",
          "name": "stdout",
          "text": [
            "tensor([0.5151, 1.6826, 0.9153,  ..., 0.9852, 1.2714, 1.8192])\n",
            "tensor([0.5151, 1.6826, 0.9153,  ..., 0.9852, 1.2714, 1.8192])\n",
            "The maximum difference between torch and triton is 0.0\n"
          ]
        }
      ]
    },
    {
      "cell_type": "code",
      "source": [
        "@triton.testing.perf_report(\n",
        "    triton.testing.Benchmark(\n",
        "        x_names = ['size'],\n",
        "        x_vals = [2**i for i in range(12, 28, 1)],\n",
        "        x_log = True,\n",
        "        line_arg = 'provider',\n",
        "        line_vals = ['triton', 'torch'],\n",
        "        line_names = ['Triton', 'Torch'],\n",
        "        styles= [('blue', '-'), ('green', '-')],\n",
        "        ylabel = 'GB/s',\n",
        "        plot_name= 'vector-add-performance',\n",
        "        args={},\n",
        "    )\n",
        ")\n",
        "\n",
        "def benchmark(size, provider):\n",
        "  x = torch.rand(size, device='cuda', dtype=torch.float32)\n",
        "  y = torch.rand(size, device='cuda', dtype=torch.float32)\n",
        "  quantiles = [0.5, 0.2, 0.8]\n",
        "  if provider == 'torch':\n",
        "    ms, min_ms, max_ms = triton.testing.do_bench(lambda: x+y, quantiles=quantiles)\n",
        "  if provider == 'triton':\n",
        "    ms, min_ms, max_ms = triton.testing.do_bench(lambda: add(x, y), quantiles=quantiles)\n",
        "  gbps = lambda ms: 3 * x.numel() * x.element_size() / ms * 1e-6\n",
        "\n",
        "  return gbps(ms), gbps(max_ms), gbps(min_ms)\n",
        "\n",
        "benchmark.run(print_data=True, show_plots=True)"
      ],
      "metadata": {
        "colab": {
          "base_uri": "https://localhost:8080/",
          "height": 766
        },
        "id": "eZwqOl3bfNg7",
        "outputId": "1c4251ad-6ab5-44ea-aaf9-7e7aae279f09"
      },
      "execution_count": null,
      "outputs": [
        {
          "output_type": "display_data",
          "data": {
            "text/plain": [
              "<Figure size 640x480 with 1 Axes>"
            ],
            "image/png": "[encoded data removed]"
          },
          "metadata": {}
        },
        {
          "output_type": "stream",
          "name": "stdout",
          "text": [
            "vector-add-performance:\n",
            "           size      Triton       Torch\n",
            "0        4096.0    7.314286    7.279621\n",
            "1        8192.0   16.083770   18.070588\n",
            "2       16384.0   37.809231   38.641509\n",
            "3       32768.0   63.999998   63.999998\n",
            "4       65536.0   96.376474   96.946742\n",
            "5      131072.0  147.161685  146.285715\n",
            "6      262144.0  185.479239  176.646904\n",
            "7      524288.0  207.611406  193.702454\n",
            "8     1048576.0  220.659939  220.042531\n",
            "9     2097152.0  228.713669  231.849058\n",
            "10    4194304.0  233.917907  237.880216\n",
            "11    8388608.0  237.574814  241.301581\n",
            "12   16777216.0  238.656247  243.242067\n",
            "13   33554432.0  240.391097  245.025406\n",
            "14   67108864.0  241.974426  246.698361\n",
            "15  134217728.0  242.845956  247.229128\n"
          ]
        }
      ]
    },
    {
      "cell_type": "markdown",
      "source": [
        "## Subtract Kernel\n",
        "\n",
        "Recommended to restart the session if using simulation (TRITON_INTERPRET == 1). Buggy!!"
      ],
      "metadata": {
        "id": "4fGMJ5mzIUoV"
      }
    },
    {
      "cell_type": "code",
      "source": [
        "import torch\n",
        "import triton\n",
        "import triton.language as tl"
      ],
      "metadata": {
        "id": "L5htODlZLF_e"
      },
      "execution_count": 4,
      "outputs": []
    },
    {
      "cell_type": "code",
      "source": [
        "@triton.jit\n",
        "def subtract_kernel(\n",
        "    x_ptr,\n",
        "    y_ptr,\n",
        "    output_ptr,\n",
        "    n_elements,\n",
        "    BLOCK_SIZE: tl.constexpr\n",
        "  ):\n",
        "\n",
        "  row_start = tl.program_id(0)\n",
        "\n",
        "  offsets = row_start * BLOCK_SIZE + tl.arange(0, BLOCK_SIZE)\n",
        "  mask = offsets < n_elements\n",
        "\n",
        "  x = tl.load(x_ptr + offsets, mask)\n",
        "  y = tl.load(y_ptr + offsets, mask)\n",
        "\n",
        "  output = x - y\n",
        "\n",
        "  tl.store(output_ptr + offsets, output, mask)\n",
        "\n",
        "def subtract(x: torch.Tensor, y: torch.Tensor):\n",
        "  z = torch.empty_like(x, device = x.device) # initializing the empty output\n",
        "  # Uncomment the following assert if running on GPU\n",
        "  # assert x.is_cuda and y.is_cuda and z.is_cuda, f\"Inputs should be on CUDA\"\n",
        "  n_elements = x.numel()\n",
        "\n",
        "  grid = lambda meta: (cdiv(n_elements, meta['BLOCK_SIZE']), )\n",
        "  subtract_kernel[grid](x, y, z, n_elements, BLOCK_SIZE = 1024)\n",
        "\n",
        "  return z"
      ],
      "metadata": {
        "id": "a0TaxkZeI39H"
      },
      "execution_count": 5,
      "outputs": []
    },
    {
      "cell_type": "code",
      "source": [
        "device = 'cuda' if torch.cuda.is_available() else 'cpu'\n",
        "torch.manual_seed(0)\n",
        "size = 98432\n",
        "x = torch.rand(size, device=device)\n",
        "y = torch.rand(size, device=device)\n",
        "output_torch = x - y\n",
        "output_triton = subtract(x, y)\n",
        "print(output_torch)\n",
        "print(output_triton)\n",
        "print(f'The maximum difference between torch and triton is '\n",
        "      f'{torch.max(torch.abs(output_torch - output_triton))}')"
      ],
      "metadata": {
        "colab": {
          "base_uri": "https://localhost:8080/"
        },
        "id": "yzYEXdtlI3_g",
        "outputId": "fc0f1cb0-2f15-4a2d-9224-b9591c371610"
      },
      "execution_count": 6,
      "outputs": [
        {
          "output_type": "stream",
          "name": "stdout",
          "text": [
            "tensor([ 0.4774, -0.1461, -0.7384,  ..., -0.3037, -0.2944,  0.0959])\n",
            "tensor([ 0.4774, -0.1461, -0.7384,  ..., -0.3037, -0.2944,  0.0959])\n",
            "The maximum difference between torch and triton is 0.0\n"
          ]
        }
      ]
    },
    {
      "cell_type": "markdown",
      "source": [
        "## Element-Wise Multiplication"
      ],
      "metadata": {
        "id": "NNnWHStDMZb5"
      }
    },
    {
      "cell_type": "code",
      "source": [
        "import torch\n",
        "import triton\n",
        "import triton.language as tl"
      ],
      "metadata": {
        "id": "uBfP6bK8MVMY"
      },
      "execution_count": 3,
      "outputs": []
    },
    {
      "cell_type": "code",
      "source": [
        "@triton.jit\n",
        "def multiply_kernel(\n",
        "    x_ptr,\n",
        "    y_ptr,\n",
        "    output_ptr,\n",
        "    n_elements,\n",
        "    BLOCK_SIZE: tl.constexpr\n",
        "  ):\n",
        "\n",
        "  row_start = tl.program_id(0)\n",
        "  offsets = row_start * BLOCK_SIZE + tl.arange(0, BLOCK_SIZE)\n",
        "  mask = offsets < n_elements\n",
        "\n",
        "  x = tl.load(x_ptr + offsets, mask=mask)\n",
        "  y = tl.load(y_ptr + offsets, mask=mask)\n",
        "\n",
        "  output = x * y\n",
        "\n",
        "  # If on CPU then the location is on RAM, if GPU then its the VRAM\n",
        "  tl.store(output_ptr + offsets, output, mask=mask)\n",
        "\n",
        "def multiply(x:torch.Tensor, y:torch.Tensor):\n",
        "  z = torch.empty_like(x, device = x.device)\n",
        "  # Uncomment the following assert if running on GPU\n",
        "  # assert x.is_cuda and y.is_cuda and z.is_cuda, f\"Inputs should be on CUDA\"\n",
        "  n_elements = x.numel()\n",
        "\n",
        "  grid = lambda meta: (cdiv(n_elements, meta['BLOCK_SIZE']), )\n",
        "  multiply_kernel[grid](x, y, z, n_elements, BLOCK_SIZE = 2048)\n",
        "\n",
        "  return z"
      ],
      "metadata": {
        "id": "IOHhNT0TMmbP"
      },
      "execution_count": 5,
      "outputs": []
    },
    {
      "cell_type": "code",
      "source": [
        "device = 'cuda' if torch.cuda.is_available() else 'cpu'\n",
        "torch.manual_seed(0)\n",
        "size = 4096 # 98432\n",
        "x = torch.rand(size, device=device)\n",
        "y = torch.rand(size, device=device)\n",
        "output_torch = x * y\n",
        "output_triton = multiply(x, y)\n",
        "print(output_torch)\n",
        "print(output_triton)\n",
        "print(f'The maximum difference between torch and triton is '\n",
        "      f'{torch.max(torch.abs(output_torch - output_triton))}')"
      ],
      "metadata": {
        "colab": {
          "base_uri": "https://localhost:8080/"
        },
        "id": "2EB0XSOaMmdG",
        "outputId": "2d615243-395e-4ed1-f667-88bf2f566115"
      },
      "execution_count": 7,
      "outputs": [
        {
          "output_type": "stream",
          "name": "stdout",
          "text": [
            "tensor([0.4286, 0.3435, 0.0257,  ..., 0.5666, 0.4311, 0.0330])\n",
            "tensor([0.4286, 0.3435, 0.0257,  ..., 0.5666, 0.4311, 0.0330])\n",
            "The maximum difference between torch and triton is 0.0\n"
          ]
        }
      ]
    },
    {
      "cell_type": "markdown",
      "source": [
        "## Element-Wise Division"
      ],
      "metadata": {
        "id": "_CB1WRhKOobD"
      }
    },
    {
      "cell_type": "code",
      "source": [
        "import torch\n",
        "import triton\n",
        "import triton.language as tl\n",
        "\n",
        "@triton.jit\n",
        "def division_kernel(\n",
        "    x_ptr,\n",
        "    y_ptr,\n",
        "    output_ptr,\n",
        "    n_elements,\n",
        "    BLOCK_SIZE: tl.constexpr\n",
        "    ):\n",
        "\n",
        "  row_start = tl.program_id(0)\n",
        "\n",
        "  offsets = row_start * BLOCK_SIZE + tl.arange(0, BLOCK_SIZE)\n",
        "  mask = offsets < n_elements\n",
        "\n",
        "  x = tl.load(x_ptr + offsets, mask=mask)\n",
        "  y = tl.load(y_ptr + offsets, mask=mask)\n",
        "\n",
        "  output = x / y\n",
        "\n",
        "  tl.store(output_ptr + offsets, output, mask=mask)\n",
        "\n",
        "def division(x: torch.Tensor, y: torch.Tensor):\n",
        "  z = torch.empty_like(x, device = x.device)\n",
        "  # Uncomment the following assert if running on GPU\n",
        "  # assert x.is_cuda and y.is_cuda and z.is_cuda, f\"Inputs should be on CUDA\"\n",
        "  n_elements = x.numel()\n",
        "\n",
        "  grid = lambda meta: (cdiv(n_elements, meta['BLOCK_SIZE']), )\n",
        "\n",
        "  division_kernel[grid](x, y, z, n_elements, BLOCK_SIZE = 2048)\n",
        "\n",
        "  return z"
      ],
      "metadata": {
        "id": "XiM4BeoXOsqH"
      },
      "execution_count": 5,
      "outputs": []
    },
    {
      "cell_type": "code",
      "source": [
        "device = 'cuda' if torch.cuda.is_available() else 'cpu'\n",
        "torch.manual_seed(0)\n",
        "size = 4096 # 98432\n",
        "x = torch.rand(size, device=device)\n",
        "y = torch.rand(size, device=device)\n",
        "output_torch = x / y\n",
        "output_triton = division(x, y)\n",
        "print(output_torch)\n",
        "print(output_triton)\n",
        "print(f'The maximum difference between torch and triton is '\n",
        "      f'{torch.max(torch.abs(output_torch - output_triton))}')"
      ],
      "metadata": {
        "colab": {
          "base_uri": "https://localhost:8080/"
        },
        "id": "E8vhvsIHOsr5",
        "outputId": "370fdeac-7358-48a9-c7e6-70f33460cb06"
      },
      "execution_count": 6,
      "outputs": [
        {
          "output_type": "stream",
          "name": "stdout",
          "text": [
            "tensor([0.5746, 1.7183, 0.3049,  ..., 0.9082, 0.8896, 0.1226])\n",
            "tensor([0.5746, 1.7183, 0.3049,  ..., 0.9082, 0.8896, 0.1226])\n",
            "The maximum difference between torch and triton is 0.0\n"
          ]
        }
      ]
    },
    {
      "cell_type": "markdown",
      "source": [
        "## Fused Softmax"
      ],
      "metadata": {
        "id": "TOY8Xk8IL_rg"
      }
    },
    {
      "cell_type": "code",
      "source": [
        "import torch\n",
        "import triton\n",
        "import triton.language as tl\n",
        "import triton.runtime.driver"
      ],
      "metadata": {
        "id": "VWtiKyb5LuFO"
      },
      "execution_count": null,
      "outputs": []
    },
    {
      "cell_type": "code",
      "source": [
        "a = torch.Tensor(2,3)\n",
        "a"
      ],
      "metadata": {
        "colab": {
          "base_uri": "https://localhost:8080/"
        },
        "id": "wakYbFTnNPNr",
        "outputId": "c05b87c9-5f0d-48ce-c50d-e2f7c172623b"
      },
      "execution_count": null,
      "outputs": [
        {
          "output_type": "execute_result",
          "data": {
            "text/plain": [
              "tensor([[-1.1961e-29,  3.0983e-41,  1.5891e-42],\n",
              "        [ 3.0983e-41, -1.1961e-29,  3.0983e-41]])"
            ]
          },
          "metadata": {},
          "execution_count": 2
        }
      ]
    },
    {
      "cell_type": "code",
      "source": [
        "a.max(dim=1)[0]"
      ],
      "metadata": {
        "colab": {
          "base_uri": "https://localhost:8080/"
        },
        "id": "n-lRUms-NOq3",
        "outputId": "8877b075-08a3-4748-8452-b4800a196bdd"
      },
      "execution_count": null,
      "outputs": [
        {
          "output_type": "execute_result",
          "data": {
            "text/plain": [
              "tensor([3.0983e-41, 3.0983e-41])"
            ]
          },
          "metadata": {},
          "execution_count": 3
        }
      ]
    },
    {
      "cell_type": "code",
      "source": [
        "a.max(dim=1)[0][:, None] == a.max(dim=1)[0].view(2,1)"
      ],
      "metadata": {
        "colab": {
          "base_uri": "https://localhost:8080/"
        },
        "id": "A2h92ixUNtE7",
        "outputId": "ab5e37aa-db1a-4199-92d0-17c384ccffed"
      },
      "execution_count": null,
      "outputs": [
        {
          "output_type": "execute_result",
          "data": {
            "text/plain": [
              "tensor([[True],\n",
              "        [True]])"
            ]
          },
          "metadata": {},
          "execution_count": 4
        }
      ]
    },
    {
      "cell_type": "code",
      "source": [
        "a.max(dim=1)[0].view(2,1)"
      ],
      "metadata": {
        "colab": {
          "base_uri": "https://localhost:8080/"
        },
        "id": "ysUXoGUvOGKQ",
        "outputId": "31895cb4-462a-4749-c8da-5725a144b2dd"
      },
      "execution_count": null,
      "outputs": [
        {
          "output_type": "execute_result",
          "data": {
            "text/plain": [
              "tensor([[3.0983e-41],\n",
              "        [3.0983e-41]])"
            ]
          },
          "metadata": {},
          "execution_count": 5
        }
      ]
    },
    {
      "cell_type": "code",
      "source": [
        "_ = a - a.max(dim=1)[0][:, None]\n",
        "_"
      ],
      "metadata": {
        "colab": {
          "base_uri": "https://localhost:8080/"
        },
        "id": "dbmJ2Vk1NgOg",
        "outputId": "3c889be7-dbf2-4f55-aa8f-d8494dfa7e09"
      },
      "execution_count": null,
      "outputs": [
        {
          "output_type": "execute_result",
          "data": {
            "text/plain": [
              "tensor([[-1.1961e-29,  0.0000e+00, -2.9394e-41],\n",
              "        [ 0.0000e+00, -1.1961e-29,  0.0000e+00]])"
            ]
          },
          "metadata": {},
          "execution_count": 6
        }
      ]
    },
    {
      "cell_type": "code",
      "source": [
        "def naive_softmax(x):\n",
        "  x_max = x.max(dim=1)\n",
        "  z = x - x_max[:, None]\n",
        "  numerator = torch.exp(z)\n",
        "  denominator = numerator.sum(dim = 1)\n",
        "  ret = numerator / denominator[:, None]\n",
        "\n",
        "  return ret"
      ],
      "metadata": {
        "id": "bqQgsLikMlDb"
      },
      "execution_count": null,
      "outputs": []
    },
    {
      "cell_type": "code",
      "source": [
        "@triton.jit\n",
        "def softmax_kernel(\n",
        "    input_ptr,\n",
        "    output_ptr,\n",
        "    input_row_stride,\n",
        "    output_row_stride,\n",
        "    n_rows,\n",
        "    n_cols,\n",
        "    BLOCK_SIZE: tl.constexpr,\n",
        "    num_stages: tl.constexpr\n",
        "  ):\n",
        "\n",
        "  row_start = tl.program_id(0)\n",
        "  row_step = tl.num_programs(0)\n",
        "\n",
        "  for row_idx in tl.range(row_start, n_rows, row_step, num_stages=num_stages):\n",
        "    row_start_ptr = input_ptr + row_idx * input_row_stride\n",
        "    col_offsets = tl.arange(0, BLOCK_SIZE)\n",
        "    input_ptrs = row_start_ptr + col_offsets\n",
        "\n",
        "    mask = col_offsets < n_cols\n",
        "    row = tl.load(input_ptrs, mask=mask, other=-float('inf'))\n",
        "\n",
        "    stable_row = row - tl.max(row, axis = 0)\n",
        "\n",
        "    numerator = tl.exp(stable_row, axis = 0)\n",
        "    denominator = tl.sum(numerator, axis = 0)\n",
        "\n",
        "    softmax_output = numerator / denominator\n",
        "\n",
        "    output_row_start_pointer = output_ptr + row_idx * output_row_stride\n",
        "\n",
        "    output_ptrs = output_row_start_pointer + col_offsets\n",
        "\n",
        "    tl.store(output_ptrs, softmax_output, mask=mask)\n"
      ],
      "metadata": {
        "id": "eFk8L-2fOvHb"
      },
      "execution_count": null,
      "outputs": []
    },
    {
      "cell_type": "code",
      "source": [
        "# Initialize triton\n",
        "triton.init(arch=triton.arch.cuda, device_id=0)"
      ],
      "metadata": {
        "colab": {
          "base_uri": "https://localhost:8080/",
          "height": 159
        },
        "id": "WUmy86IKz39z",
        "outputId": "8a9b77b9-90c2-4f13-bf56-3e7815bccf9c"
      },
      "execution_count": null,
      "outputs": [
        {
          "output_type": "error",
          "ename": "AttributeError",
          "evalue": "module 'triton' has no attribute 'init'",
          "traceback": [
            "\u001b[0;31m---------------------------------------------------------------------------\u001b[0m",
            "\u001b[0;31mAttributeError\u001b[0m                            Traceback (most recent call last)",
            "\u001b[0;32m<ipython-input-9-03d6e5d77d16>\u001b[0m in \u001b[0;36m<cell line: 2>\u001b[0;34m()\u001b[0m\n\u001b[1;32m      1\u001b[0m \u001b[0;31m# Initialize triton\u001b[0m\u001b[0;34m\u001b[0m\u001b[0;34m\u001b[0m\u001b[0m\n\u001b[0;32m----> 2\u001b[0;31m \u001b[0mtriton\u001b[0m\u001b[0;34m.\u001b[0m\u001b[0minit\u001b[0m\u001b[0;34m(\u001b[0m\u001b[0march\u001b[0m\u001b[0;34m=\u001b[0m\u001b[0mtriton\u001b[0m\u001b[0;34m.\u001b[0m\u001b[0march\u001b[0m\u001b[0;34m.\u001b[0m\u001b[0mcuda\u001b[0m\u001b[0;34m,\u001b[0m \u001b[0mdevice_id\u001b[0m\u001b[0;34m=\u001b[0m\u001b[0;36m0\u001b[0m\u001b[0;34m)\u001b[0m\u001b[0;34m\u001b[0m\u001b[0;34m\u001b[0m\u001b[0m\n\u001b[0m",
            "\u001b[0;31mAttributeError\u001b[0m: module 'triton' has no attribute 'init'"
          ]
        }
      ]
    },
    {
      "cell_type": "code",
      "source": [
        "device = torch.cuda.current_device()\n",
        "properties = driver.active.utils.get_device_properties(device)\n",
        "NUM_SM = properties[\"multiprocessor_count\"]\n",
        "NUM_REGS = properties[\"max_num_regs\"]\n",
        "SIZE_SMEM = properties[\"max_shared_mem\"]\n",
        "WARP_SIZE = properties[\"warpSize\"]\n",
        "target = triton.runtime.driver.active.get_current_target()\n",
        "kernels = {}\n",
        "print(f'SM: {NUM_SM}\\nREGS: {NUM_REGS}\\nSMEM: {SIZE_SMEM}\\nWARP: {WARP_SIZE}\\ntarget: {target}')"
      ],
      "metadata": {
        "colab": {
          "base_uri": "https://localhost:8080/",
          "height": 332
        },
        "id": "CSGhSyHGv4yr",
        "outputId": "13a7992b-da89-4ec4-c44a-4bd1072905ea"
      },
      "execution_count": null,
      "outputs": [
        {
          "output_type": "error",
          "ename": "AttributeError",
          "evalue": "'CudaDriver' object has no attribute 'active'",
          "traceback": [
            "\u001b[0;31m---------------------------------------------------------------------------\u001b[0m",
            "\u001b[0;31mAttributeError\u001b[0m                            Traceback (most recent call last)",
            "\u001b[0;32m<ipython-input-18-d7be163ad873>\u001b[0m in \u001b[0;36m<cell line: 2>\u001b[0;34m()\u001b[0m\n\u001b[1;32m      1\u001b[0m \u001b[0mdevice\u001b[0m \u001b[0;34m=\u001b[0m \u001b[0mtorch\u001b[0m\u001b[0;34m.\u001b[0m\u001b[0mcuda\u001b[0m\u001b[0;34m.\u001b[0m\u001b[0mcurrent_device\u001b[0m\u001b[0;34m(\u001b[0m\u001b[0;34m)\u001b[0m\u001b[0;34m\u001b[0m\u001b[0;34m\u001b[0m\u001b[0m\n\u001b[0;32m----> 2\u001b[0;31m \u001b[0mproperties\u001b[0m \u001b[0;34m=\u001b[0m \u001b[0mdriver\u001b[0m\u001b[0;34m.\u001b[0m\u001b[0mactive\u001b[0m\u001b[0;34m.\u001b[0m\u001b[0mutils\u001b[0m\u001b[0;34m.\u001b[0m\u001b[0mget_device_properties\u001b[0m\u001b[0;34m(\u001b[0m\u001b[0mdevice\u001b[0m\u001b[0;34m)\u001b[0m\u001b[0;34m\u001b[0m\u001b[0;34m\u001b[0m\u001b[0m\n\u001b[0m\u001b[1;32m      3\u001b[0m \u001b[0mNUM_SM\u001b[0m \u001b[0;34m=\u001b[0m \u001b[0mproperties\u001b[0m\u001b[0;34m[\u001b[0m\u001b[0;34m\"multiprocessor_count\"\u001b[0m\u001b[0;34m]\u001b[0m\u001b[0;34m\u001b[0m\u001b[0;34m\u001b[0m\u001b[0m\n\u001b[1;32m      4\u001b[0m \u001b[0mNUM_REGS\u001b[0m \u001b[0;34m=\u001b[0m \u001b[0mproperties\u001b[0m\u001b[0;34m[\u001b[0m\u001b[0;34m\"max_num_regs\"\u001b[0m\u001b[0;34m]\u001b[0m\u001b[0;34m\u001b[0m\u001b[0;34m\u001b[0m\u001b[0m\n\u001b[1;32m      5\u001b[0m \u001b[0mSIZE_SMEM\u001b[0m \u001b[0;34m=\u001b[0m \u001b[0mproperties\u001b[0m\u001b[0;34m[\u001b[0m\u001b[0;34m\"max_shared_mem\"\u001b[0m\u001b[0;34m]\u001b[0m\u001b[0;34m\u001b[0m\u001b[0;34m\u001b[0m\u001b[0m\n",
            "\u001b[0;32m/usr/local/lib/python3.10/dist-packages/triton/runtime/driver.py\u001b[0m in \u001b[0;36m__getattr__\u001b[0;34m(self, name)\u001b[0m\n\u001b[1;32m    208\u001b[0m     \u001b[0;32mdef\u001b[0m \u001b[0m__getattr__\u001b[0m\u001b[0;34m(\u001b[0m\u001b[0mself\u001b[0m\u001b[0;34m,\u001b[0m \u001b[0mname\u001b[0m\u001b[0;34m)\u001b[0m\u001b[0;34m:\u001b[0m\u001b[0;34m\u001b[0m\u001b[0;34m\u001b[0m\u001b[0m\n\u001b[1;32m    209\u001b[0m         \u001b[0mself\u001b[0m\u001b[0;34m.\u001b[0m\u001b[0m_initialize_obj\u001b[0m\u001b[0;34m(\u001b[0m\u001b[0;34m)\u001b[0m\u001b[0;34m\u001b[0m\u001b[0;34m\u001b[0m\u001b[0m\n\u001b[0;32m--> 210\u001b[0;31m         \u001b[0;32mreturn\u001b[0m \u001b[0mgetattr\u001b[0m\u001b[0;34m(\u001b[0m\u001b[0mself\u001b[0m\u001b[0;34m.\u001b[0m\u001b[0m_obj\u001b[0m\u001b[0;34m,\u001b[0m \u001b[0mname\u001b[0m\u001b[0;34m)\u001b[0m\u001b[0;34m\u001b[0m\u001b[0;34m\u001b[0m\u001b[0m\n\u001b[0m\u001b[1;32m    211\u001b[0m \u001b[0;34m\u001b[0m\u001b[0m\n\u001b[1;32m    212\u001b[0m     \u001b[0;32mdef\u001b[0m \u001b[0m__setattr__\u001b[0m\u001b[0;34m(\u001b[0m\u001b[0mself\u001b[0m\u001b[0;34m,\u001b[0m \u001b[0mname\u001b[0m\u001b[0;34m,\u001b[0m \u001b[0mvalue\u001b[0m\u001b[0;34m)\u001b[0m\u001b[0;34m:\u001b[0m\u001b[0;34m\u001b[0m\u001b[0;34m\u001b[0m\u001b[0m\n",
            "\u001b[0;31mAttributeError\u001b[0m: 'CudaDriver' object has no attribute 'active'"
          ]
        }
      ]
    },
    {
      "cell_type": "code",
      "source": [
        "device = triton.cuda.Device()\n",
        "\n",
        "# Get device properties\n",
        "properties = device.properties"
      ],
      "metadata": {
        "colab": {
          "base_uri": "https://localhost:8080/",
          "height": 193
        },
        "id": "MWHK3KxWv8rh",
        "outputId": "7ac5ea3b-83b2-4152-bf16-74b03bd7d6a6"
      },
      "execution_count": null,
      "outputs": [
        {
          "output_type": "error",
          "ename": "AttributeError",
          "evalue": "module 'triton' has no attribute 'cuda'",
          "traceback": [
            "\u001b[0;31m---------------------------------------------------------------------------\u001b[0m",
            "\u001b[0;31mAttributeError\u001b[0m                            Traceback (most recent call last)",
            "\u001b[0;32m<ipython-input-11-58c84c5ba12c>\u001b[0m in \u001b[0;36m<cell line: 1>\u001b[0;34m()\u001b[0m\n\u001b[0;32m----> 1\u001b[0;31m \u001b[0mdevice\u001b[0m \u001b[0;34m=\u001b[0m \u001b[0mtriton\u001b[0m\u001b[0;34m.\u001b[0m\u001b[0mcuda\u001b[0m\u001b[0;34m.\u001b[0m\u001b[0mDevice\u001b[0m\u001b[0;34m(\u001b[0m\u001b[0;34m)\u001b[0m\u001b[0;34m\u001b[0m\u001b[0;34m\u001b[0m\u001b[0m\n\u001b[0m\u001b[1;32m      2\u001b[0m \u001b[0;34m\u001b[0m\u001b[0m\n\u001b[1;32m      3\u001b[0m \u001b[0;31m# Get device properties\u001b[0m\u001b[0;34m\u001b[0m\u001b[0;34m\u001b[0m\u001b[0m\n\u001b[1;32m      4\u001b[0m \u001b[0mproperties\u001b[0m \u001b[0;34m=\u001b[0m \u001b[0mdevice\u001b[0m\u001b[0;34m.\u001b[0m\u001b[0mproperties\u001b[0m\u001b[0;34m\u001b[0m\u001b[0;34m\u001b[0m\u001b[0m\n",
            "\u001b[0;31mAttributeError\u001b[0m: module 'triton' has no attribute 'cuda'"
          ]
        }
      ]
    },
    {
      "cell_type": "code",
      "source": [],
      "metadata": {
        "colab": {
          "base_uri": "https://localhost:8080/",
          "height": 176
        },
        "id": "7_eS57GB2w6s",
        "outputId": "1b59297e-8b72-4ea9-ee28-8a3d2c4c756a"
      },
      "execution_count": null,
      "outputs": [
        {
          "output_type": "error",
          "ename": "NameError",
          "evalue": "name '__file__' is not defined",
          "traceback": [
            "\u001b[0;31m---------------------------------------------------------------------------\u001b[0m",
            "\u001b[0;31mNameError\u001b[0m                                 Traceback (most recent call last)",
            "\u001b[0;32m<ipython-input-12-f17d929d7bf5>\u001b[0m in \u001b[0;36m<cell line: 3>\u001b[0;34m()\u001b[0m\n\u001b[1;32m      1\u001b[0m \u001b[0;32mimport\u001b[0m \u001b[0mos\u001b[0m\u001b[0;34m\u001b[0m\u001b[0;34m\u001b[0m\u001b[0m\n\u001b[1;32m      2\u001b[0m \u001b[0;34m\u001b[0m\u001b[0m\n\u001b[0;32m----> 3\u001b[0;31m \u001b[0mos\u001b[0m\u001b[0;34m.\u001b[0m\u001b[0mpath\u001b[0m\u001b[0;34m.\u001b[0m\u001b[0mdirname\u001b[0m\u001b[0;34m(\u001b[0m\u001b[0m__file__\u001b[0m\u001b[0;34m)\u001b[0m\u001b[0;34m\u001b[0m\u001b[0;34m\u001b[0m\u001b[0m\n\u001b[0m",
            "\u001b[0;31mNameError\u001b[0m: name '__file__' is not defined"
          ]
        }
      ]
    },
    {
      "cell_type": "code",
      "source": [
        "6 | 2"
      ],
      "metadata": {
        "colab": {
          "base_uri": "https://localhost:8080/"
        },
        "id": "mFajFnqC4B7-",
        "outputId": "7b412afa-9004-42b6-eb55-d38415de3352"
      },
      "execution_count": null,
      "outputs": [
        {
          "output_type": "execute_result",
          "data": {
            "text/plain": [
              "6"
            ]
          },
          "metadata": {},
          "execution_count": 16
        }
      ]
    },
    {
      "cell_type": "code",
      "source": [
        "110\n",
        "011"
      ],
      "metadata": {
        "colab": {
          "base_uri": "https://localhost:8080/",
          "height": 124
        },
        "id": "6n4wSGoDAJBs",
        "outputId": "299a8cd2-99a1-4948-a821-0872b35ab8e1"
      },
      "execution_count": null,
      "outputs": [
        {
          "output_type": "error",
          "ename": "SyntaxError",
          "evalue": "leading zeros in decimal integer literals are not permitted; use an 0o prefix for octal integers (<ipython-input-18-af35acd9fc19>, line 2)",
          "traceback": [
            "\u001b[0;36m  File \u001b[0;32m\"<ipython-input-18-af35acd9fc19>\"\u001b[0;36m, line \u001b[0;32m2\u001b[0m\n\u001b[0;31m    001\u001b[0m\n\u001b[0m    ^\u001b[0m\n\u001b[0;31mSyntaxError\u001b[0m\u001b[0;31m:\u001b[0m leading zeros in decimal integer literals are not permitted; use an 0o prefix for octal integers\n"
          ]
        }
      ]
    },
    {
      "cell_type": "code",
      "source": [
        "6 >> 1"
      ],
      "metadata": {
        "colab": {
          "base_uri": "https://localhost:8080/"
        },
        "id": "wkbNhVzwAc1a",
        "outputId": "24ad8971-8d76-49c7-f363-dff53053c1e4"
      },
      "execution_count": null,
      "outputs": [
        {
          "output_type": "execute_result",
          "data": {
            "text/plain": [
              "3"
            ]
          },
          "metadata": {},
          "execution_count": 29
        }
      ]
    },
    {
      "cell_type": "code",
      "source": [
        "n = 6 | 6 >> 1"
      ],
      "metadata": {
        "id": "JdNAtQ36Ao0z"
      },
      "execution_count": null,
      "outputs": []
    },
    {
      "cell_type": "code",
      "source": [
        "n = n | n >> 2"
      ],
      "metadata": {
        "id": "0zvPeSL0Avfz"
      },
      "execution_count": null,
      "outputs": []
    },
    {
      "cell_type": "code",
      "source": [
        "n = n | n >> 4"
      ],
      "metadata": {
        "id": "Z0yv2IhJA23w"
      },
      "execution_count": null,
      "outputs": []
    },
    {
      "cell_type": "code",
      "source": [
        "n"
      ],
      "metadata": {
        "colab": {
          "base_uri": "https://localhost:8080/"
        },
        "id": "4amgJRnEA-0Y",
        "outputId": "712cd0fd-900e-43a9-c5d7-2bdd2627474d"
      },
      "execution_count": null,
      "outputs": [
        {
          "output_type": "execute_result",
          "data": {
            "text/plain": [
              "7"
            ]
          },
          "metadata": {},
          "execution_count": 38
        }
      ]
    },
    {
      "cell_type": "code",
      "source": [
        "n = n | n >> 8"
      ],
      "metadata": {
        "id": "gk5YjnQuBFtL"
      },
      "execution_count": null,
      "outputs": []
    },
    {
      "cell_type": "code",
      "source": [
        "n + 1"
      ],
      "metadata": {
        "colab": {
          "base_uri": "https://localhost:8080/"
        },
        "id": "vluMCGPVBLV8",
        "outputId": "c2266ffc-8232-4a84-8d4a-891b7c6fdcdb"
      },
      "execution_count": null,
      "outputs": [
        {
          "output_type": "execute_result",
          "data": {
            "text/plain": [
              "8"
            ]
          },
          "metadata": {},
          "execution_count": 41
        }
      ]
    },
    {
      "cell_type": "code",
      "source": [
        "6 >> 2"
      ],
      "metadata": {
        "colab": {
          "base_uri": "https://localhost:8080/"
        },
        "id": "Tew3yKbeBOln",
        "outputId": "709c343c-8b8e-4136-89e3-ee6c090d3e36"
      },
      "execution_count": null,
      "outputs": [
        {
          "output_type": "execute_result",
          "data": {
            "text/plain": [
              "1"
            ]
          },
          "metadata": {},
          "execution_count": 44
        }
      ]
    },
    {
      "cell_type": "code",
      "source": [
        "36 >> 2"
      ],
      "metadata": {
        "colab": {
          "base_uri": "https://localhost:8080/"
        },
        "id": "YG5bATYaBU3I",
        "outputId": "c27b8124-1af8-4274-b3bf-a0ac3392a270"
      },
      "execution_count": null,
      "outputs": [
        {
          "output_type": "execute_result",
          "data": {
            "text/plain": [
              "9"
            ]
          },
          "metadata": {},
          "execution_count": 45
        }
      ]
    },
    {
      "cell_type": "code",
      "source": [],
      "metadata": {
        "id": "ykWmGHwzBmoE"
      },
      "execution_count": null,
      "outputs": []
    }
  ]
}